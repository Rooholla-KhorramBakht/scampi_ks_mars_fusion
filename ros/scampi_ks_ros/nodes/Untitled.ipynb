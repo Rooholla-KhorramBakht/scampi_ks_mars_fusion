{
 "cells": [
  {
   "cell_type": "code",
   "execution_count": 6,
   "metadata": {},
   "outputs": [],
   "source": [
    "from spc_ads_pub.msg import CableLength\n",
    "from geometry_msgs.msg import PoseStamped\n",
    "from liegroups.numpy import SO3\n",
    "import numpy as np"
   ]
  },
  {
   "cell_type": "code",
   "execution_count": 25,
   "metadata": {},
   "outputs": [
    {
     "ename": "TypeError",
     "evalue": "to_quaternion() got an unexpected keyword argument 'normalized'",
     "output_type": "error",
     "traceback": [
      "\u001b[0;31m---------------------------------------------------------------------------\u001b[0m",
      "\u001b[0;31mTypeError\u001b[0m                                 Traceback (most recent call last)",
      "\u001b[0;32m<ipython-input-25-4b99e0634d06>\u001b[0m in \u001b[0;36m<module>\u001b[0;34m\u001b[0m\n\u001b[0;32m----> 1\u001b[0;31m \u001b[0mSO3\u001b[0m\u001b[0;34m.\u001b[0m\u001b[0mfrom_matrix\u001b[0m\u001b[0;34m(\u001b[0m\u001b[0mnp\u001b[0m\u001b[0;34m.\u001b[0m\u001b[0meye\u001b[0m\u001b[0;34m(\u001b[0m\u001b[0;36m3\u001b[0m\u001b[0;34m)\u001b[0m\u001b[0;34m)\u001b[0m\u001b[0;34m.\u001b[0m\u001b[0mto_quaternion\u001b[0m\u001b[0;34m(\u001b[0m\u001b[0mnormalized\u001b[0m \u001b[0;34m=\u001b[0m \u001b[0;32mTrue\u001b[0m\u001b[0;34m)\u001b[0m\u001b[0;34m\u001b[0m\u001b[0;34m\u001b[0m\u001b[0m\n\u001b[0m",
      "\u001b[0;31mTypeError\u001b[0m: to_quaternion() got an unexpected keyword argument 'normalized'"
     ]
    }
   ],
   "source": [
    "SO3.from_matrix(np.eye(3)).to_quaternion(normalized = True)"
   ]
  },
  {
   "cell_type": "code",
   "execution_count": 6,
   "metadata": {},
   "outputs": [],
   "source": [
    "import rospy\n",
    "rospy.init_node('tmp_node')"
   ]
  },
  {
   "cell_type": "code",
   "execution_count": 49,
   "metadata": {},
   "outputs": [
    {
     "data": {
      "text/plain": [
       "1643293256.5689144"
      ]
     },
     "execution_count": 49,
     "metadata": {},
     "output_type": "execute_result"
    }
   ],
   "source": [
    "rospy.Time.now().to_sec()"
   ]
  },
  {
   "cell_type": "code",
   "execution_count": 13,
   "metadata": {},
   "outputs": [],
   "source": [
    "msg = CableLength()"
   ]
  },
  {
   "cell_type": "code",
   "execution_count": 16,
   "metadata": {},
   "outputs": [
    {
     "data": {
      "text/plain": [
       "0.0"
      ]
     },
     "execution_count": 16,
     "metadata": {},
     "output_type": "execute_result"
    }
   ],
   "source": [
    "msg.header.stamp.to_sec()"
   ]
  },
  {
   "cell_type": "code",
   "execution_count": 42,
   "metadata": {},
   "outputs": [],
   "source": [
    "msg = PoseStamped()"
   ]
  },
  {
   "cell_type": "code",
   "execution_count": 43,
   "metadata": {},
   "outputs": [
    {
     "data": {
      "text/plain": [
       "x: 0.0\n",
       "y: 0.0\n",
       "z: 0.0"
      ]
     },
     "execution_count": 43,
     "metadata": {},
     "output_type": "execute_result"
    }
   ],
   "source": [
    "msg.pose.position"
   ]
  },
  {
   "cell_type": "code",
   "execution_count": 41,
   "metadata": {},
   "outputs": [],
   "source": [
    "q = SO3.from_matrix(np.eye(3)).to_quaternion()\n",
    "msg.pose.orientation.w = q[0]\n",
    "msg.pose.orientation.x = q[1]\n",
    "msg.pose.orientation.y = q[2]\n",
    "msg.pose.orientation.z = q[3]"
   ]
  },
  {
   "cell_type": "markdown",
   "metadata": {},
   "source": [
    "# Send a Request to Set Initial Cable Lengths"
   ]
  },
  {
   "cell_type": "code",
   "execution_count": 14,
   "metadata": {},
   "outputs": [],
   "source": [
    "from scampi_ks_ros.srv import CableLenInit\n",
    "import rospy"
   ]
  },
  {
   "cell_type": "code",
   "execution_count": 15,
   "metadata": {},
   "outputs": [],
   "source": [
    "init_cable_lengths = rospy.ServiceProxy('/scampi_ks_ros/init_cable_lengths', CableLenInit)"
   ]
  },
  {
   "cell_type": "code",
   "execution_count": 41,
   "metadata": {},
   "outputs": [
    {
     "data": {
      "text/plain": [
       "result: 1"
      ]
     },
     "execution_count": 41,
     "metadata": {},
     "output_type": "execute_result"
    }
   ],
   "source": [
    "eq_pose = PoseStamped()\n",
    "eq_pose.pose.orientation.x = 0.0202\n",
    "eq_pose.pose.orientation.y = 0.0631\n",
    "eq_pose.pose.orientation.z = -0.0582\n",
    "eq_pose.pose.orientation.w = 0.9961\n",
    "eq_pose.pose.position.x = 0.0402\n",
    "eq_pose.pose.position.y = -1.1387\n",
    "eq_pose.pose.position.z = 3.9743\n",
    "\n",
    "eq_len = [8.6661,    8.8732,    7.8163,    7.5852]\n",
    "init_cable_lengths(eq_pose, eq_len)"
   ]
  },
  {
   "cell_type": "code",
   "execution_count": 34,
   "metadata": {},
   "outputs": [
    {
     "data": {
      "text/plain": [
       "array([[-1.23169967,  0.27391196, -0.53892053],\n",
       "       [-0.75227936,  0.77288847, -0.75757052],\n",
       "       [ 0.54258042, -1.26354574, -0.4039983 ]])"
      ]
     },
     "execution_count": 34,
     "metadata": {},
     "output_type": "execute_result"
    }
   ],
   "source": [
    "R = np.random.randn(3,3)\n",
    "u, s, v = np.linalg.svd(R)\n",
    "R"
   ]
  },
  {
   "cell_type": "code",
   "execution_count": 29,
   "metadata": {},
   "outputs": [
    {
     "data": {
      "text/plain": [
       "(array([[-0.3008452 ,  0.95257861, -0.04567452],\n",
       "        [-0.06353995,  0.02776557,  0.99759298],\n",
       "        [ 0.95155391,  0.30302321,  0.05217366]]),\n",
       " array([1., 1., 1.]),\n",
       " array([[-0., -1., -0.],\n",
       "        [-0., -0., -1.],\n",
       "        [-1., -0., -0.]]))"
      ]
     },
     "execution_count": 29,
     "metadata": {},
     "output_type": "execute_result"
    }
   ],
   "source": [
    "np.linalg.svd(u.T@v)"
   ]
  },
  {
   "cell_type": "code",
   "execution_count": 38,
   "metadata": {},
   "outputs": [
    {
     "data": {
      "text/plain": [
       "array([[-0.97140489, -0.21422443, -0.10237403],\n",
       "       [-0.03475349,  0.55482542, -0.83124061],\n",
       "       [ 0.23487176, -0.80391333, -0.54640517]])"
      ]
     },
     "execution_count": 38,
     "metadata": {},
     "output_type": "execute_result"
    }
   ],
   "source": [
    "u, s, v = np.linalg.svd(R)\n",
    "u@v"
   ]
  },
  {
   "cell_type": "code",
   "execution_count": null,
   "metadata": {},
   "outputs": [],
   "source": []
  }
 ],
 "metadata": {
  "kernelspec": {
   "display_name": "<System Python3>",
   "language": "python",
   "name": "system_python3"
  },
  "language_info": {
   "codemirror_mode": {
    "name": "ipython",
    "version": 3
   },
   "file_extension": ".py",
   "mimetype": "text/x-python",
   "name": "python",
   "nbconvert_exporter": "python",
   "pygments_lexer": "ipython3",
   "version": "3.6.12"
  }
 },
 "nbformat": 4,
 "nbformat_minor": 2
}
