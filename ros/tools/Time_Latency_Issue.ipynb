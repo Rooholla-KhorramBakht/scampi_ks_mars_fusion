{
 "cells": [
  {
   "cell_type": "code",
   "execution_count": 9,
   "metadata": {},
   "outputs": [],
   "source": [
    "import matplotlib.pyplot as plt\n",
    "import pandas as pd\n",
    "import numpy as np\n",
    "import os\n",
    "import pickle\n",
    "import yaml"
   ]
  },
  {
   "cell_type": "markdown",
   "metadata": {},
   "source": [
    "## Extract The Data From the CSV File"
   ]
  },
  {
   "cell_type": "code",
   "execution_count": 10,
   "metadata": {},
   "outputs": [],
   "source": [
    "data_root = 'expriments/one_covar_mars_10hz/'\n",
    "\n",
    "cable_len_df = pd.read_csv(os.path.join(data_root,'cable_len.csv'))\n",
    "gt_pose_df = pd.read_csv(os.path.join(data_root,'gt_pose.csv'))\n",
    "mars_center_pose_df = pd.read_csv(os.path.join(data_root,'mars_center_pose.csv'))\n",
    "mars_imu_pose_df = pd.read_csv(os.path.join(data_root,'mars_imu_pose.csv'))\n",
    "\n",
    "raw_imu_df = pd.read_csv(os.path.join(data_root,'raw_imu.csv'))\n",
    "solver_pose_df = pd.read_csv(os.path.join(data_root,'sover_pose.csv'))\n",
    "spc_pose_df = pd.read_csv(os.path.join(data_root,'spc_pose.csv'))\n",
    "\n",
    "#Extracting Time Stamps\n",
    "cable_len_stamp = cable_len_df.loc[:,'stamp'].to_numpy()\n",
    "gt_pose_stamp = gt_pose_df.loc[:,'stamp'].to_numpy()\n",
    "mars_center_pose_stamp = mars_center_pose_df.loc[:,'stamp'].to_numpy()\n",
    "mars_imu_pose_stamp = mars_imu_pose_df.loc[:,'stamp'].to_numpy()\n",
    "raw_imu_stamp = raw_imu_df.loc[:,'stamp'].to_numpy()\n",
    "solver_pose_stamp = solver_pose_df.loc[:,'stamp'].to_numpy()\n",
    "spc_pose_stamp = spc_pose_df.loc[:,'stamp'].to_numpy()"
   ]
  },
  {
   "cell_type": "markdown",
   "metadata": {},
   "source": [
    "# IMU - Cable Excitement Time Shift"
   ]
  },
  {
   "cell_type": "code",
   "execution_count": 11,
   "metadata": {},
   "outputs": [],
   "source": [
    "gyro = raw_imu_df.loc[:,'ax':'az'].to_numpy()\n",
    "cable = cable_len_df.loc[:,'l1':'l4'].to_numpy()"
   ]
  },
  {
   "cell_type": "code",
   "execution_count": 12,
   "metadata": {},
   "outputs": [
    {
     "name": "stdout",
     "output_type": "stream",
     "text": [
      "Using matplotlib backend: TkAgg\n"
     ]
    }
   ],
   "source": [
    "%matplotlib\n",
    "m=np.linalg.norm(gyro,axis=-1)\n",
    "plt.plot(raw_imu_stamp-raw_imu_stamp[0],m-m[0],'.')\n",
    "plt.plot(cable_len_stamp[0:-1]-raw_imu_stamp[0], (cable[0:-1,0]-cable[1:,0])/0.01,'.')\n",
    "plt.grid(True)"
   ]
  },
  {
   "cell_type": "code",
   "execution_count": null,
   "metadata": {},
   "outputs": [],
   "source": []
  }
 ],
 "metadata": {
  "kernelspec": {
   "display_name": "torch_1.6",
   "language": "python",
   "name": "torch_1.6"
  },
  "language_info": {
   "codemirror_mode": {
    "name": "ipython",
    "version": 3
   },
   "file_extension": ".py",
   "mimetype": "text/x-python",
   "name": "python",
   "nbconvert_exporter": "python",
   "pygments_lexer": "ipython3",
   "version": "3.6.12"
  }
 },
 "nbformat": 4,
 "nbformat_minor": 2
}
