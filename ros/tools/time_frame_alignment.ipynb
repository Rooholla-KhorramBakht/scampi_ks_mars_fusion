{
 "cells": [
  {
   "cell_type": "code",
   "execution_count": 660,
   "metadata": {},
   "outputs": [],
   "source": [
    "import cv2\n",
    "import matplotlib.pyplot as plt\n",
    "import pandas as pd\n",
    "import numpy as np\n",
    "import json\n",
    "import os\n",
    "import pickle\n",
    "import yaml\n",
    "from tqdm import tqdm\n",
    "from src.rpg_trajectory_evaluation.align_trajectory import *"
   ]
  },
  {
   "cell_type": "code",
   "execution_count": 661,
   "metadata": {},
   "outputs": [],
   "source": [
    "\n",
    "def getSyncedMap(timestamps_first,timestamps_second,threshold=0.05,add_nans=False): \n",
    "    '''\n",
    "    This function gets two list of time stamps and returns a list of synchronizing maps\n",
    "    [ ...[first_index,corresponding_synchronizing_second_index]...]. if there are no indices\n",
    "    in the second timestamp lists that is close enough to the indices in the first list (dt<threshold),\n",
    "    nan will be used to indicate the situation.\n",
    "    '''\n",
    "    map_list=[]\n",
    "    for i in range(len(timestamps_first)):\n",
    "        corresponding_second_index=np.argmin(np.abs(timestamps_second -timestamps_first[i]))\n",
    "        min_dt=np.min(np.abs(timestamps_second -timestamps_first[i]))\n",
    "        if min_dt<threshold:\n",
    "            map_list.append((i,corresponding_second_index))\n",
    "        elif add_nans:\n",
    "             map_list.append((i,np.nan))\n",
    "\n",
    "    return np.array(map_list).astype(np.long)\n",
    "\n",
    "def downSample(pi, pj, n=100):\n",
    "    idx = np.array([i*n for i in range(min(pi.shape[0], pj.shape[0])//n)])\n",
    "    return pi[idx, ...], pj[idx,...]\n",
    "\n",
    "def syncPaths(stamp1, stamp2, pos1, pos2):\n",
    "    maps = get_synced_samples(stamp1, stamp2, threshold=0.05, add_nans=False)\n",
    "    P1 = pos1[maps[:,0],...]\n",
    "    P2 = pos2[maps[:,1],...]\n",
    "    return stamp2[maps[:,1]], P1, P2, maps\n",
    "\n",
    "def umeyamaMatch(points1, points2):\n",
    "    A, B = downSample(points1, points2, n=2)\n",
    "    s, R, t = align_umeyama(A,B)\n",
    "#     s=0.49863936219059213\n",
    "    ext_params = {'S':s, 'R':R, 'T':t}\n",
    "    aligned_gt =( s * R @ points2.T + t.reshape(3,1)).T\n",
    "    return aligned_gt, ext_params\n",
    "\n",
    "    "
   ]
  },
  {
   "cell_type": "markdown",
   "metadata": {},
   "source": [
    "## Extract The Data From the CSV File"
   ]
  },
  {
   "cell_type": "code",
   "execution_count": 662,
   "metadata": {},
   "outputs": [],
   "source": [
    "# data_root = 'expriments/mars_small_z_pos_large_rot_cov_simulated_IMU_stamp_smaller_cal_cov_TC21_2/'\n",
    "data_root = 'expriments/final/old_cov_and_fixed_mars_prop_issue/'\n",
    "\n",
    "cable_len_df = pd.read_csv(os.path.join(data_root,'cable_len.csv'))\n",
    "gt_pose_df = pd.read_csv(os.path.join(data_root,'gt_pose.csv'))\n",
    "mars_center_pose_df = pd.read_csv(os.path.join(data_root,'mars_center_pose.csv'))\n",
    "mars_imu_pose_df = pd.read_csv(os.path.join(data_root,'mars_imu_pose.csv'))\n",
    "\n",
    "raw_imu_df = pd.read_csv(os.path.join(data_root,'raw_imu.csv'))\n",
    "solver_pose_df = pd.read_csv(os.path.join(data_root,'sover_pose.csv'))\n",
    "spc_pose_df = pd.read_csv(os.path.join(data_root,'spc_pose.csv'))\n",
    "\n",
    "#Extracting Time Stamps\n",
    "cable_len_stamp = cable_len_df.loc[:,'stamp'].to_numpy()\n",
    "gt_pose_stamp = gt_pose_df.loc[:,'stamp'].to_numpy()\n",
    "mars_center_pose_stamp = mars_center_pose_df.loc[:,'stamp'].to_numpy()\n",
    "mars_imu_pose_stamp = mars_imu_pose_df.loc[:,'stamp'].to_numpy()\n",
    "raw_imu_stamp = raw_imu_df.loc[:,'stamp'].to_numpy()\n",
    "solver_pose_stamp = solver_pose_df.loc[:,'stamp'].to_numpy()\n",
    "spc_pose_stamp = spc_pose_df.loc[:,'stamp'].to_numpy()"
   ]
  },
  {
   "cell_type": "code",
   "execution_count": 663,
   "metadata": {},
   "outputs": [],
   "source": [
    "cal_state_df = pd.read_csv(os.path.join(data_root,'mars_calstate_pose.csv'))\n",
    "\n",
    "#Extracting Time Stamps\n",
    "cal_state_stamp = cal_state_df.loc[:,'stamp'].to_numpy()\n",
    "cal_state_pos   = cal_state_df.loc[:,'px':'pz'].to_numpy()\n",
    "cal_state_rot   = cal_state_df.loc[:,'qw':'qz'].to_numpy()"
   ]
  },
  {
   "cell_type": "code",
   "execution_count": 658,
   "metadata": {},
   "outputs": [
    {
     "data": {
      "text/plain": [
       "Quaternion(0.41470004345974654, 0.0, 0.0, -0.9099581715411342)"
      ]
     },
     "execution_count": 658,
     "metadata": {},
     "output_type": "execute_result"
    }
   ],
   "source": [
    "import pyquaternion\n",
    "d = 4/180*np.pi\n",
    "q_original = pyquaternion.Quaternion(0.3827,0,0,-0.9239)\n",
    "ax = q_original.axis\n",
    "angle = q_original.angle\n",
    "q_perturbed = pyquaternion.Quaternion(axis = ax, angle=angle-d)\n",
    "q_perturbed"
   ]
  },
  {
   "cell_type": "code",
   "execution_count": 664,
   "metadata": {},
   "outputs": [
    {
     "name": "stdout",
     "output_type": "stream",
     "text": [
      "Using matplotlib backend: TkAgg\n"
     ]
    }
   ],
   "source": [
    "%matplotlib\n",
    "fig, ax = plt.subplots(2,1,sharex=True)\n",
    "\n",
    "ax[0].plot(cal_state_stamp,cal_state_pos)\n",
    "\n",
    "ax[0].plot(cal_state_stamp,cal_state_pos)\n",
    "ax[0].legend(['x', 'y','z'])\n",
    "ax[0].grid(True)\n",
    "ax[0].set_title(f'cal state pos')\n",
    "\n",
    "\n",
    "ax[1].plot(cal_state_stamp,cal_state_rot)\n",
    "ax[1].legend(['w', 'x', 'y','z'])\n",
    "ax[1].grid(True)\n",
    "ax[1].set_title(f'cal state rot')\n",
    "\n",
    "\n",
    "plt.tight_layout()\n",
    "# plt.savefig('/home/rouholla/large_var.pdf')"
   ]
  },
  {
   "cell_type": "code",
   "execution_count": 665,
   "metadata": {},
   "outputs": [
    {
     "data": {
      "text/plain": [
       "array([-0.1610039 ,  0.03469276,  0.07875326])"
      ]
     },
     "execution_count": 665,
     "metadata": {},
     "output_type": "execute_result"
    }
   ],
   "source": [
    "cal_state_pos[-1]"
   ]
  },
  {
   "cell_type": "code",
   "execution_count": 584,
   "metadata": {},
   "outputs": [
    {
     "data": {
      "text/plain": [
       "array([-0.13227496,  0.04949875,  0.0794818 ])"
      ]
     },
     "execution_count": 584,
     "metadata": {},
     "output_type": "execute_result"
    }
   ],
   "source": [
    "cal_state_pos[-1]"
   ]
  },
  {
   "cell_type": "code",
   "execution_count": 666,
   "metadata": {},
   "outputs": [],
   "source": [
    "cal_state_df = pd.read_csv(os.path.join(data_root,'mars_bias_state.csv'))\n",
    "\n",
    "#Extracting Time Stamps\n",
    "bias_stamp = cal_state_df.loc[:,'stamp'].to_numpy()\n",
    "bias_accel   = cal_state_df.loc[:,'bax':'baz'].to_numpy()\n",
    "bias_gyro   = cal_state_df.loc[:,'bgx':'bgz'].to_numpy()"
   ]
  },
  {
   "cell_type": "code",
   "execution_count": 667,
   "metadata": {},
   "outputs": [],
   "source": [
    "fig, ax = plt.subplots(2,1,sharex=True)\n",
    "\n",
    "ax[0].plot(bias_stamp,bias_accel)\n",
    "ax[0].legend(['x', 'y','z'])\n",
    "ax[0].grid(True)\n",
    "ax[0].set_title(f'accel_bias')\n",
    "\n",
    "\n",
    "ax[1].plot(bias_stamp,bias_gyro)\n",
    "ax[1].legend(['x', 'y','z'])\n",
    "ax[1].grid(True)\n",
    "ax[1].set_title(f'gyro bias')\n",
    "\n",
    "\n",
    "plt.tight_layout()\n",
    "# plt.savefig('/home/rouholla/large_var.pdf')"
   ]
  },
  {
   "cell_type": "markdown",
   "metadata": {},
   "source": [
    "## SPC Pose Vs GT Pose"
   ]
  },
  {
   "cell_type": "code",
   "execution_count": 668,
   "metadata": {},
   "outputs": [],
   "source": [
    "spc_pos = spc_pose_df.loc[:,'px':'pz'].to_numpy()\n",
    "gt_pos = gt_pose_df.loc[:,'px':'pz'].to_numpy()"
   ]
  },
  {
   "cell_type": "code",
   "execution_count": 669,
   "metadata": {},
   "outputs": [
    {
     "data": {
      "text/plain": [
       "array([[    0,     0],\n",
       "       [    1,     2],\n",
       "       [    2,     3],\n",
       "       ...,\n",
       "       [32403, 45399],\n",
       "       [32404, 45400],\n",
       "       [32405, 45402]])"
      ]
     },
     "execution_count": 669,
     "metadata": {},
     "output_type": "execute_result"
    }
   ],
   "source": [
    "map = getSyncedMap(spc_pose_stamp, gt_pose_stamp, threshold=0.05)\n",
    "map"
   ]
  },
  {
   "cell_type": "code",
   "execution_count": 670,
   "metadata": {},
   "outputs": [],
   "source": [
    "spc_pos_sync = spc_pos[map[:,0],...]\n",
    "gt_pos_sync = gt_pos[map[:,1],...]"
   ]
  },
  {
   "cell_type": "code",
   "execution_count": 671,
   "metadata": {},
   "outputs": [],
   "source": [
    "spc_pos_sync_aligned, _ = umeyamaMatch(gt_pos_sync, spc_pos_sync)"
   ]
  },
  {
   "cell_type": "code",
   "execution_count": 672,
   "metadata": {},
   "outputs": [
    {
     "name": "stdout",
     "output_type": "stream",
     "text": [
      "Using matplotlib backend: TkAgg\n"
     ]
    },
    {
     "data": {
      "text/plain": [
       "[<mpl_toolkits.mplot3d.art3d.Line3D at 0x7f31a354d9b0>]"
      ]
     },
     "execution_count": 672,
     "metadata": {},
     "output_type": "execute_result"
    }
   ],
   "source": [
    "%matplotlib\n",
    "idx = [i*10 for i in range(spc_pos_sync_aligned.shape[0]//10)]\n",
    "ax = plt.axes(projection = '3d')\n",
    "ax.plot(gt_pos_sync[:,0], gt_pos_sync[:,1], gt_pos_sync[:,2],'k')\n",
    "ax.plot(spc_pos_sync_aligned[idx,0], spc_pos_sync_aligned[idx,1], spc_pos_sync_aligned[idx,2],'*')"
   ]
  },
  {
   "cell_type": "markdown",
   "metadata": {},
   "source": [
    "## Solver Vs GT Pose"
   ]
  },
  {
   "cell_type": "code",
   "execution_count": 673,
   "metadata": {},
   "outputs": [],
   "source": [
    "solver_pose = solver_pose_df.loc[:,'px':'pz'].to_numpy()\n",
    "gt_pos = gt_pose_df.loc[:,'px':'pz'].to_numpy()"
   ]
  },
  {
   "cell_type": "code",
   "execution_count": 674,
   "metadata": {},
   "outputs": [
    {
     "data": {
      "text/plain": [
       "array([[    0,     0],\n",
       "       [    1,     0],\n",
       "       [    2,     0],\n",
       "       ...,\n",
       "       [45400,  2495],\n",
       "       [45401,  2495],\n",
       "       [45402,  2495]])"
      ]
     },
     "execution_count": 674,
     "metadata": {},
     "output_type": "execute_result"
    }
   ],
   "source": [
    "map = getSyncedMap(gt_pose_stamp, solver_pose_stamp, threshold=0.05)\n",
    "map"
   ]
  },
  {
   "cell_type": "code",
   "execution_count": 675,
   "metadata": {},
   "outputs": [],
   "source": [
    "solver_pose_stamp_sync = solver_pose_stamp[map[:,1],...]"
   ]
  },
  {
   "cell_type": "code",
   "execution_count": 676,
   "metadata": {},
   "outputs": [],
   "source": [
    "solver_pose_sync = solver_pose[map[:,1],...]\n",
    "gt_pos_sync = gt_pos[map[:,0],...]"
   ]
  },
  {
   "cell_type": "code",
   "execution_count": 677,
   "metadata": {
    "scrolled": true
   },
   "outputs": [
    {
     "name": "stdout",
     "output_type": "stream",
     "text": [
      "6\n"
     ]
    }
   ],
   "source": [
    "vars = []\n",
    "for i in range(-200,50):\n",
    "    if i == 0:\n",
    "        P0 = gt_pos_sync\n",
    "        P1 = solver_pose_sync\n",
    "    elif i>0:\n",
    "        P0 = gt_pos_sync[i:,...]\n",
    "        P1 = solver_pose_sync[:-i,:]   \n",
    "    else:\n",
    "        P0 = gt_pos_sync[:i:,...]\n",
    "        P1 = solver_pose_sync[-i:,:]   \n",
    "\n",
    "    s1, R1, t1 = align_umeyama(P0,P1)\n",
    "    P1_aligned =( s1 * R1 @ P1.T + t1.reshape(3,1)).T\n",
    "\n",
    "    var = np.linalg.norm(np.var(P0-P1_aligned, axis=0))\n",
    "    vars.append([i, var])\n",
    "vars = np.array(vars)\n",
    "plt.plot(vars[:,0], vars[:,1])\n",
    "min_var = min(vars[:,1])\n",
    "min_offset = int(vars[np.argmin(vars[:,1]),0])\n",
    "plt.plot(min_offset, min_var,'r*')\n",
    "print(min_offset)\n"
   ]
  },
  {
   "cell_type": "code",
   "execution_count": 678,
   "metadata": {},
   "outputs": [
    {
     "data": {
      "text/plain": [
       "0.03593280960687225"
      ]
     },
     "execution_count": 678,
     "metadata": {},
     "output_type": "execute_result"
    }
   ],
   "source": [
    "if min_offset == 0:\n",
    "    P0 = gt_pos_sync\n",
    "    P1 = solver_pose_sync\n",
    "    \n",
    "elif min_offset>0:\n",
    "    P0 = gt_pos_sync[min_offset:,...]\n",
    "    P1 = solver_pose_sync[:-min_offset,:]\n",
    "else:\n",
    "    P0 = gt_pos_sync[:min_offset:,...]\n",
    "    P1 = solver_pose_sync[-min_offset:,:] \n",
    "\n",
    "s1, R1, t1 = align_umeyama(P0[15000:,...],P1[15000:,...])\n",
    "solver_pose_sync_aligned = ( s1 * R1 @ P1.T + t1.reshape(3,1)).T\n",
    "err = np.std(P0[1000:]-solver_pose_sync_aligned[1000:], axis = 0)\n",
    "np.linalg.norm(err)"
   ]
  },
  {
   "cell_type": "code",
   "execution_count": 679,
   "metadata": {},
   "outputs": [],
   "source": [
    "solver_pose_sync_aligned, _ = umeyamaMatch(gt_pos_sync, solver_pose_sync)"
   ]
  },
  {
   "cell_type": "code",
   "execution_count": 598,
   "metadata": {},
   "outputs": [
    {
     "name": "stdout",
     "output_type": "stream",
     "text": [
      "Using matplotlib backend: TkAgg\n"
     ]
    },
    {
     "data": {
      "text/plain": [
       "[<mpl_toolkits.mplot3d.art3d.Line3D at 0x7f31a1f22588>]"
      ]
     },
     "execution_count": 598,
     "metadata": {},
     "output_type": "execute_result"
    }
   ],
   "source": [
    "%matplotlib\n",
    "plt.figure()\n",
    "ax = plt.axes(projection = '3d')\n",
    "ax.plot(gt_pos_sync[:,0], gt_pos_sync[:,1], gt_pos_sync[:,2],'k')\n",
    "ax.plot(solver_pose_sync_aligned[:,0], solver_pose_sync_aligned[:,1], solver_pose_sync_aligned[:,2],'*')"
   ]
  },
  {
   "cell_type": "code",
   "execution_count": 644,
   "metadata": {},
   "outputs": [
    {
     "ename": "ValueError",
     "evalue": "operands could not be broadcast together with shapes (49876,3) (51898,3) ",
     "output_type": "error",
     "traceback": [
      "\u001b[0;31m---------------------------------------------------------------------------\u001b[0m",
      "\u001b[0;31mValueError\u001b[0m                                Traceback (most recent call last)",
      "\u001b[0;32m<ipython-input-644-c8e213136705>\u001b[0m in \u001b[0;36m<module>\u001b[0;34m\u001b[0m\n\u001b[0;32m----> 1\u001b[0;31m \u001b[0mplt\u001b[0m\u001b[0;34m.\u001b[0m\u001b[0mplot\u001b[0m\u001b[0;34m(\u001b[0m\u001b[0msolver_pose_sync_aligned\u001b[0m\u001b[0;34m-\u001b[0m\u001b[0mgt_pos_sync\u001b[0m\u001b[0;34m)\u001b[0m\u001b[0;34m\u001b[0m\u001b[0;34m\u001b[0m\u001b[0m\n\u001b[0m\u001b[1;32m      2\u001b[0m \u001b[0merr\u001b[0m \u001b[0;34m=\u001b[0m \u001b[0mnp\u001b[0m\u001b[0;34m.\u001b[0m\u001b[0mstd\u001b[0m\u001b[0;34m(\u001b[0m\u001b[0msolver_pose_sync_aligned\u001b[0m\u001b[0;34m-\u001b[0m\u001b[0mgt_pos_sync\u001b[0m\u001b[0;34m,\u001b[0m \u001b[0maxis\u001b[0m \u001b[0;34m=\u001b[0m \u001b[0;36m0\u001b[0m\u001b[0;34m)\u001b[0m\u001b[0;34m\u001b[0m\u001b[0;34m\u001b[0m\u001b[0m\n\u001b[1;32m      3\u001b[0m \u001b[0mnp\u001b[0m\u001b[0;34m.\u001b[0m\u001b[0mlinalg\u001b[0m\u001b[0;34m.\u001b[0m\u001b[0mnorm\u001b[0m\u001b[0;34m(\u001b[0m\u001b[0merr\u001b[0m\u001b[0;34m)\u001b[0m\u001b[0;34m\u001b[0m\u001b[0;34m\u001b[0m\u001b[0m\n",
      "\u001b[0;31mValueError\u001b[0m: operands could not be broadcast together with shapes (49876,3) (51898,3) "
     ]
    }
   ],
   "source": [
    "plt.plot(solver_pose_sync_aligned-gt_pos_sync)\n",
    "err = np.std(solver_pose_sync_aligned-gt_pos_sync, axis = 0)\n",
    "np.linalg.norm(err)"
   ]
  },
  {
   "cell_type": "code",
   "execution_count": 600,
   "metadata": {},
   "outputs": [],
   "source": [
    "np.savetxt('SOLVER_VS_GT_GT_POSES_ALIGNED.csv', gt_pos_sync, delimiter=',')\n",
    "np.savetxt('SOLVER_VS_GT_SOLVER_POSES_ALIGNED.csv', solver_pose_sync_aligned, delimiter=',')"
   ]
  },
  {
   "cell_type": "markdown",
   "metadata": {},
   "source": [
    "## MARS_Center Vs GT Pose (And Correlation Based Time Alignment)"
   ]
  },
  {
   "cell_type": "code",
   "execution_count": 680,
   "metadata": {},
   "outputs": [],
   "source": [
    "import pyquaternion\n",
    "mars_center_pos = mars_center_pose_df.loc[:,'px':'pz'].to_numpy()\n",
    "mars_center_qs = mars_center_pose_df.loc[:,'qw':'qz'].to_numpy()\n",
    "mars_center_rots = np.vstack([pyquaternion.Quaternion(mars_center_qs[i,:]).rotation_matrix.reshape(1,3,3) for i in range(mars_center_qs.shape[0])])\n",
    "\n",
    "gt_pos = gt_pose_df.loc[:,'px':'pz'].to_numpy()"
   ]
  },
  {
   "cell_type": "code",
   "execution_count": 681,
   "metadata": {
    "scrolled": true
   },
   "outputs": [
    {
     "data": {
      "text/plain": [
       "array([[     0,      0],\n",
       "       [     1,      0],\n",
       "       [     2,      0],\n",
       "       ...,\n",
       "       [ 45400, 106226],\n",
       "       [ 45401, 106226],\n",
       "       [ 45402, 106226]])"
      ]
     },
     "execution_count": 681,
     "metadata": {},
     "output_type": "execute_result"
    }
   ],
   "source": [
    "map = getSyncedMap(gt_pose_stamp, mars_center_pose_stamp, threshold=0.1)\n",
    "map"
   ]
  },
  {
   "cell_type": "code",
   "execution_count": 682,
   "metadata": {},
   "outputs": [],
   "source": [
    "mars_center_pos_sync = mars_center_pos[map[:,1],...]\n",
    "mars_center_stamp_sync = mars_center_pose_stamp[map[:,1],...]\n",
    "gt_pos_sync = gt_pos[map[:,0],...]\n",
    "gt_stamp_sync = gt_pose_stamp[map[:,0],...]"
   ]
  },
  {
   "cell_type": "code",
   "execution_count": 683,
   "metadata": {},
   "outputs": [
    {
     "data": {
      "text/plain": [
       "[<matplotlib.lines.Line2D at 0x7f31a37f9f28>]"
      ]
     },
     "execution_count": 683,
     "metadata": {},
     "output_type": "execute_result"
    }
   ],
   "source": [
    "# plt.plot(mars_center_pos_sync[:,0])\n",
    "# plt.plot(gt_pos_sync[:,0])\n",
    "plt.plot(mars_center_pos[:,0])\n"
   ]
  },
  {
   "cell_type": "code",
   "execution_count": 684,
   "metadata": {},
   "outputs": [
    {
     "name": "stdout",
     "output_type": "stream",
     "text": [
      "Using matplotlib backend: TkAgg\n"
     ]
    },
    {
     "data": {
      "text/plain": [
       "array([0.02843226, 0.02668514, 0.02216386])"
      ]
     },
     "execution_count": 684,
     "metadata": {},
     "output_type": "execute_result"
    }
   ],
   "source": [
    "%matplotlib\n",
    "plt.plot(mars_center_pos_sync-gt_pos_sync)\n",
    "np.std(mars_center_pos_sync-gt_pos_sync, axis = 0)"
   ]
  },
  {
   "cell_type": "code",
   "execution_count": 685,
   "metadata": {},
   "outputs": [
    {
     "data": {
      "text/plain": [
       "{'S': 0.9999973345178987,\n",
       " 'R': array([[ 0.9999636 , -0.00601884,  0.00604709],\n",
       "        [ 0.00600659,  0.99997988,  0.00204102],\n",
       "        [-0.00605925, -0.00200463,  0.99997963]]),\n",
       " 'T': array([-0.00905461, -0.02910296, -0.00251227])}"
      ]
     },
     "execution_count": 685,
     "metadata": {},
     "output_type": "execute_result"
    }
   ],
   "source": [
    "mars_center_pos_sync_aligned, p = umeyamaMatch(gt_pos_sync, mars_center_pos_sync)\n",
    "p"
   ]
  },
  {
   "cell_type": "code",
   "execution_count": 631,
   "metadata": {},
   "outputs": [
    {
     "name": "stdout",
     "output_type": "stream",
     "text": [
      "Using matplotlib backend: TkAgg\n"
     ]
    },
    {
     "data": {
      "text/plain": [
       "[<mpl_toolkits.mplot3d.art3d.Line3D at 0x7f31a0e33780>]"
      ]
     },
     "execution_count": 631,
     "metadata": {},
     "output_type": "execute_result"
    }
   ],
   "source": [
    "%matplotlib\n",
    "plt.figure\n",
    "idx = [i*20 for i in range(mars_center_pos_sync.shape[0]//20)]\n",
    "ax = plt.axes(projection = '3d')\n",
    "ax.plot(gt_pos_sync[:,0], gt_pos_sync[:,1], gt_pos_sync[:,2],'k')\n",
    "ax.plot(mars_center_pos_sync_aligned[idx,0], mars_center_pos_sync_aligned[idx,1], mars_center_pos_sync_aligned[idx,2],'*')\n"
   ]
  },
  {
   "cell_type": "code",
   "execution_count": 686,
   "metadata": {
    "scrolled": true
   },
   "outputs": [
    {
     "name": "stdout",
     "output_type": "stream",
     "text": [
      "7\n"
     ]
    }
   ],
   "source": [
    "vars = []\n",
    "for i in range(-200,50):\n",
    "    if i == 0:\n",
    "        P0 = gt_pos_sync\n",
    "        P1 = mars_center_pos_sync\n",
    "    elif i>0:\n",
    "        P0 = gt_pos_sync[i:,...]\n",
    "        P1 = mars_center_pos_sync[:-i,:]   \n",
    "    else:\n",
    "        P0 = gt_pos_sync[:i:,...]\n",
    "        P1 = mars_center_pos_sync[-i:,:]   \n",
    "\n",
    "    s1, R1, t1 = align_umeyama(P0,P1)\n",
    "    P1_aligned =( s1 * R1 @ P1.T + t1.reshape(3,1)).T\n",
    "\n",
    "    var = np.linalg.norm(np.var(P0-P1_aligned, axis=0))\n",
    "    vars.append([i, var])\n",
    "vars = np.array(vars)\n",
    "plt.plot(vars[:,0], vars[:,1])\n",
    "min_var = min(vars[:,1])\n",
    "min_offset = int(vars[np.argmin(vars[:,1]),0])\n",
    "plt.plot(min_offset, min_var,'r*')\n",
    "print(min_offset)\n"
   ]
  },
  {
   "cell_type": "code",
   "execution_count": 687,
   "metadata": {},
   "outputs": [
    {
     "data": {
      "text/plain": [
       "0.0392535558927485"
      ]
     },
     "execution_count": 687,
     "metadata": {},
     "output_type": "execute_result"
    }
   ],
   "source": [
    "if min_offset == 0:\n",
    "    P0 = gt_pos_sync\n",
    "    gt_stamp_sync_aligned = gt_stamp_sync[min_offset:,...]\n",
    "    P1 = mars_center_pos_sync\n",
    "    mars_center_pos_sync_aligned_stamp = mars_center_stamp_sync[:,...]\n",
    "    \n",
    "elif min_offset>0:\n",
    "    P0 = gt_pos_sync[min_offset:,...]\n",
    "    gt_stamp_sync_aligned = gt_stamp_sync[min_offset:,...]\n",
    "    P1 = mars_center_pos_sync[:-min_offset,:]\n",
    "    mars_center_pos_sync_aligned_stamp = mars_center_stamp_sync[:-min_offset]\n",
    "else:\n",
    "    P0 = gt_pos_sync[:min_offset:,...]\n",
    "    gt_stamp_sync_aligned = gt_stamp_sync[:min_offset:,...]\n",
    "\n",
    "    P1 = mars_center_pos_sync[-min_offset:,:] \n",
    "    mars_center_pos_sync_aligned_stamp = mars_center_stamp_sync[-min_offset:] \n",
    "s1, R1, t1 = align_umeyama(P0[15000:,...],P1[15000:,...])\n",
    "mars_center_pos_sync_aligned = ( s1 * R1 @ P1.T + t1.reshape(3,1)).T\n",
    "err = np.std(P0[6500:50800]-mars_center_pos_sync_aligned[6500:50800], axis = 0)\n",
    "np.linalg.norm(err)"
   ]
  },
  {
   "cell_type": "code",
   "execution_count": 688,
   "metadata": {},
   "outputs": [
    {
     "data": {
      "text/plain": [
       "[<matplotlib.lines.Line2D at 0x7f31a31c29e8>,\n",
       " <matplotlib.lines.Line2D at 0x7f31a31c2c88>,\n",
       " <matplotlib.lines.Line2D at 0x7f31a31c24e0>]"
      ]
     },
     "execution_count": 688,
     "metadata": {},
     "output_type": "execute_result"
    }
   ],
   "source": [
    "plt.plot(mars_center_pos_sync_aligned)"
   ]
  },
  {
   "cell_type": "code",
   "execution_count": 614,
   "metadata": {},
   "outputs": [],
   "source": [
    "with open('alignment_params.pckl','wb') as f:\n",
    "    pickle.dump({'R':R1, 'S':s1, 'T':t1, 'time_sift':7},f)"
   ]
  },
  {
   "cell_type": "code",
   "execution_count": 615,
   "metadata": {},
   "outputs": [],
   "source": [
    "np.savetxt('MARS_VS_GT_GT_POSES_ALIGNED.csv', P0, delimiter=',')\n",
    "np.savetxt('MARS_VS_GT_MARS_POSES_ALIGNED.csv', mars_center_pos_sync_aligned, delimiter=',')\n"
   ]
  },
  {
   "cell_type": "code",
   "execution_count": 689,
   "metadata": {},
   "outputs": [],
   "source": [
    "idx = {'X':0, 'Y':1, 'Z':2}\n",
    "fig, ax = plt.subplots(3,1,sharex=True)\n",
    "\n",
    "for i,name in enumerate(['X','Y','Z']):\n",
    "    ax[i].plot(gt_stamp_sync_aligned,P0[:,idx[name]])\n",
    "    ax[i].plot(mars_center_pos_sync_aligned_stamp,mars_center_pos_sync_aligned[:,idx[name]])\n",
    "#     ax[i].plot(mars_center_pos_sync_aligned_stamp,P1[:,idx[name]])\n",
    "\n",
    "    ax[i].plot(solver_pose_stamp_sync, solver_pose_sync[:,idx[name]])\n",
    "    ax[i].legend(['gt', 'mars','solver'])\n",
    "    ax[i].grid(True)\n",
    "    ax[i].set_title(f'{name} Axis')\n",
    "plt.tight_layout()\n",
    "# plt.savefig('/home/rouholla/large_var.pdf')"
   ]
  },
  {
   "cell_type": "code",
   "execution_count": 520,
   "metadata": {},
   "outputs": [],
   "source": [
    "axis = 'Z'\n",
    "fig, ax = plt.subplots(2,1,sharex=True)\n",
    "\n",
    "ax[0].plot(gt_stamp_sync_aligned,P0[:,2])\n",
    "ax[0].plot(mars_center_pos_sync_aligned_stamp,mars_center_pos_sync_aligned[:,2])\n",
    "\n",
    "ax[0].plot(solver_pose_stamp_sync, solver_pose_sync[:,2])\n",
    "ax[0].legend(['gt', 'mars','solver'])\n",
    "ax[0].grid(True)\n",
    "ax[0].set_title(f'{axis} Axis')\n",
    "\n",
    "\n",
    "ax[1].plot(cal_state_stamp,cal_state_pos)\n",
    "ax[1].legend(['x', 'y','z'])\n",
    "ax[1].grid(True)\n",
    "ax[1].set_title(f'{axis} Bias')\n",
    "\n",
    "\n",
    "plt.tight_layout()\n",
    "# plt.savefig('/home/rouholla/large_var.pdf')"
   ]
  },
  {
   "cell_type": "code",
   "execution_count": 260,
   "metadata": {},
   "outputs": [],
   "source": [
    "axis = 'Z'\n",
    "fig, ax = plt.subplots(2,1,sharex=True)\n",
    "\n",
    "ax[0].plot(gt_stamp_sync_aligned,P0[:,2])\n",
    "ax[0].plot(mars_center_pos_sync_aligned_stamp,mars_center_pos_sync_aligned[:,2])\n",
    "\n",
    "ax[0].plot(solver_pose_stamp_sync, solver_pose_sync[:,2])\n",
    "ax[0].legend(['gt', 'mars','solver'])\n",
    "ax[0].grid(True)\n",
    "ax[0].set_title(f'{axis} Axis')\n",
    "\n",
    "\n",
    "ax[1].plot(cable_len_stamp[0:-1], cable_len_stamp[1:]-cable_len_stamp[0:-1])\n",
    "ax[1].grid(True)\n",
    "ax[1].set_title(f'{axis} Bias')\n",
    "\n",
    "\n",
    "plt.tight_layout()\n",
    "# plt.savefig('/home/rouholla/large_var.pdf')"
   ]
  },
  {
   "cell_type": "code",
   "execution_count": 259,
   "metadata": {},
   "outputs": [],
   "source": [
    "axis = 'Z'\n",
    "l = cable_len_df.loc[:,'l1':'l4'].to_numpy()\n",
    "fig, ax = plt.subplots(2,1,sharex=True)\n",
    "\n",
    "ax[0].plot(gt_stamp_sync_aligned,P0[:,2])\n",
    "ax[0].plot(mars_center_pos_sync_aligned_stamp,mars_center_pos_sync_aligned[:,2])\n",
    "\n",
    "ax[0].plot(solver_pose_stamp_sync, solver_pose_sync[:,2])\n",
    "ax[0].legend(['gt', 'mars','solver'])\n",
    "ax[0].grid(True)\n",
    "ax[0].set_title(f'{axis} Axis')\n",
    "\n",
    "\n",
    "ax[1].plot(spc_pose_stamp[0:-1], (spc_pose_stamp[1:]-spc_pose_stamp[0:-1])*100)\n",
    "ax[1].plot(spc_pose_stamp[0:], spc_pos[:,0],'*')\n",
    "\n",
    "ax[1].grid(True)\n",
    "ax[1].set_title(f'{axis} Bias')\n",
    "\n",
    "\n",
    "plt.tight_layout()\n",
    "# plt.savefig('/home/rouholla/large_var.pdf')"
   ]
  },
  {
   "cell_type": "code",
   "execution_count": 241,
   "metadata": {},
   "outputs": [],
   "source": [
    "plt.plot(gt_stamp_sync_aligned-gt_stamp_sync_aligned[0],P0[:,0])\n",
    "plt.plot(mars_center_pos_sync_aligned_stamp-gt_stamp_sync_aligned[0],mars_center_pos_sync_aligned[:,0])\n",
    "plt.grid(True)"
   ]
  },
  {
   "cell_type": "markdown",
   "metadata": {},
   "source": [
    "# Gyro Based Time Alignment"
   ]
  },
  {
   "cell_type": "markdown",
   "metadata": {},
   "source": [
    "## GT Stamps"
   ]
  },
  {
   "cell_type": "code",
   "execution_count": 43,
   "metadata": {},
   "outputs": [],
   "source": [
    "gyr = raw_imu_df.loc[:,'gx':'gz'].to_numpy()\n",
    "accel = raw_imu_df.loc[:,'ax':'az'].to_numpy()\n",
    "gt_pos = gt_pose_df.loc[:,'px':'pz'].to_numpy()\n",
    "gt_pose_stamp = gt_pose_df.loc[:,'stamp'].to_numpy()"
   ]
  },
  {
   "cell_type": "markdown",
   "metadata": {},
   "source": [
    "### Generate IMU data Simulated Stamps"
   ]
  },
  {
   "cell_type": "code",
   "execution_count": 33,
   "metadata": {},
   "outputs": [
    {
     "data": {
      "text/plain": [
       "174.91816869261706"
      ]
     },
     "execution_count": 33,
     "metadata": {},
     "output_type": "execute_result"
    }
   ],
   "source": [
    "1/((gt_pose_stamp[-1]-gt_pose_stamp[0])/len(gt_pose_stamp))"
   ]
  },
  {
   "cell_type": "code",
   "execution_count": 44,
   "metadata": {},
   "outputs": [
    {
     "data": {
      "text/plain": [
       "400.0043369635826"
      ]
     },
     "execution_count": 44,
     "metadata": {},
     "output_type": "execute_result"
    }
   ],
   "source": [
    "1/((raw_imu_stamp[-1]-raw_imu_stamp[0])/len(raw_imu_stamp))"
   ]
  },
  {
   "cell_type": "code",
   "execution_count": 45,
   "metadata": {},
   "outputs": [
    {
     "name": "stdout",
     "output_type": "stream",
     "text": [
      "Using matplotlib backend: TkAgg\n"
     ]
    },
    {
     "data": {
      "text/plain": [
       "[<matplotlib.lines.Line2D at 0x7f31a624e198>]"
      ]
     },
     "execution_count": 45,
     "metadata": {},
     "output_type": "execute_result"
    }
   ],
   "source": [
    "%matplotlib\n",
    "pol = np.polyfit([i for i in range(raw_imu_stamp.shape[0])], raw_imu_stamp, 1)\n",
    "m2, b2 = pol\n",
    "simulated_imu_stamps = np.stack([m2*i + b2 for i in range(raw_imu_stamp.shape[0])])\n",
    "plt.plot(simulated_imu_stamps)\n",
    "plt.plot(raw_imu_stamp)"
   ]
  },
  {
   "cell_type": "code",
   "execution_count": 65,
   "metadata": {},
   "outputs": [],
   "source": [
    "from liegroups import SO3\n",
    "import pyquaternion\n",
    "gt_qs = gt_pose_df.loc[:,'qw':'qz'].to_numpy()\n",
    "gt_rots = np.vstack([pyquaternion.Quaternion(gt_qs[i,:]).rotation_matrix.reshape(1,3,3) for i in range(gt_qs.shape[0])])\n",
    "deltaR = gt_rots[:-1,...].transpose(0,2,1)@gt_rots[1:,...]\n",
    "omega = [SO3.from_matrix(deltaR[i,...]).log()*175 for i in range(deltaR.shape[0])]\n",
    "omega = np.stack(omega)"
   ]
  },
  {
   "cell_type": "code",
   "execution_count": 66,
   "metadata": {},
   "outputs": [],
   "source": [
    "from scipy import signal\n",
    "\n",
    "def filterForceSensor(f, fs = 100, fc = 10):\n",
    "    c = 2*fc/fs\n",
    "    b, a = signal.butter(2, Wn = c)\n",
    "    return signal.filtfilt(b, a, f, padlen=150)\n",
    "\n",
    "\n",
    "filtered_omega_x = filterForceSensor(omega[:,0], fs=175, fc = 5)\n",
    "filtered_omega_y = filterForceSensor(omega[:,1], fs=175, fc = 5)\n",
    "filtered_omega_z = filterForceSensor(omega[:,2], fs=175, fc = 5)\n",
    "filtered_omega = np.vstack([filtered_omega_x,filtered_omega_y,filtered_omega_z]).T\n",
    "filtered_omega_mag = np.linalg.norm(filtered_omega, axis=-1)\n",
    "gyro_mag = np.linalg.norm(gyr, axis=-1)"
   ]
  },
  {
   "cell_type": "code",
   "execution_count": 67,
   "metadata": {},
   "outputs": [
    {
     "data": {
      "text/plain": [
       "[<matplotlib.lines.Line2D at 0x7f31a61dbe10>]"
      ]
     },
     "execution_count": 67,
     "metadata": {},
     "output_type": "execute_result"
    }
   ],
   "source": [
    "plt.plot(gt_pose_stamp[0:-1], filtered_omega_mag)\n",
    "plt.plot(simulated_imu_stamps, gyro_mag)"
   ]
  },
  {
   "cell_type": "code",
   "execution_count": 71,
   "metadata": {},
   "outputs": [],
   "source": [
    "map = getSyncedMap(gt_pose_stamp, simulated_imu_stamps, threshold=0.02)"
   ]
  },
  {
   "cell_type": "code",
   "execution_count": 69,
   "metadata": {},
   "outputs": [],
   "source": [
    "filtered_omega_mag_sync = filtered_omega_mag[map[:-100,0],]\n",
    "gyro_mag_sync = gyro_mag[map[:-100,1],]"
   ]
  },
  {
   "cell_type": "code",
   "execution_count": 72,
   "metadata": {},
   "outputs": [
    {
     "data": {
      "text/plain": [
       "[<matplotlib.lines.Line2D at 0x7f31a434fb70>]"
      ]
     },
     "execution_count": 72,
     "metadata": {},
     "output_type": "execute_result"
    }
   ],
   "source": [
    "plt.plot(filtered_omega_mag_sync)\n",
    "plt.plot(gyro_mag_sync)"
   ]
  },
  {
   "cell_type": "markdown",
   "metadata": {},
   "source": [
    "## Cable Length Stamps"
   ]
  },
  {
   "cell_type": "code",
   "execution_count": 73,
   "metadata": {},
   "outputs": [
    {
     "data": {
      "text/plain": [
       "[<matplotlib.lines.Line2D at 0x7f31a44b7fd0>]"
      ]
     },
     "execution_count": 73,
     "metadata": {},
     "output_type": "execute_result"
    }
   ],
   "source": [
    "cable_len_stamp = cable_len_df.loc[:,'stamp'].to_numpy()\n",
    "plt.plot(cable_len_stamp)"
   ]
  },
  {
   "cell_type": "code",
   "execution_count": 74,
   "metadata": {},
   "outputs": [
    {
     "data": {
      "text/plain": [
       "124.84376998211964"
      ]
     },
     "execution_count": 74,
     "metadata": {},
     "output_type": "execute_result"
    }
   ],
   "source": [
    "1/((cable_len_stamp[-1]-cable_len_stamp[0])/len(cable_len_stamp))"
   ]
  },
  {
   "cell_type": "code",
   "execution_count": 80,
   "metadata": {},
   "outputs": [],
   "source": [
    "# plt.plot(1/(cable_len_stamp[0:-1]-cable_len_stamp[1:]))\n",
    "_ = plt.plot((cable_len_stamp[0:-1]-cable_len_stamp[1:]))"
   ]
  },
  {
   "cell_type": "code",
   "execution_count": 77,
   "metadata": {},
   "outputs": [
    {
     "data": {
      "text/plain": [
       "[<matplotlib.lines.Line2D at 0x7f31a4344160>]"
      ]
     },
     "execution_count": 77,
     "metadata": {},
     "output_type": "execute_result"
    }
   ],
   "source": [
    "plt.plot(gt_stamp_sync_aligned,P0[:,idx[name]])\n",
    "plt.plot(mars_center_pos_sync_aligned_stamp,mars_center_pos_sync_aligned[:,idx[name]])\n",
    "# plt.plot(1/(cable_len_stamp[0:-1]-cable_len_stamp[1:]))\n"
   ]
  },
  {
   "cell_type": "code",
   "execution_count": 20,
   "metadata": {},
   "outputs": [],
   "source": [
    "raw_imu_df_filtered_stamp = pd.concat([pd.DataFrame(data = simulated_imu_stamps, columns=['filetered_stamps']) , raw_imu_df], axis=1)\n",
    "raw_imu_df.to_csv(os.path.join(data_root, 'raw_imu_plus_filtered_stamps.csv'))"
   ]
  },
  {
   "cell_type": "code",
   "execution_count": 21,
   "metadata": {},
   "outputs": [
    {
     "ename": "NameError",
     "evalue": "name 'SO3' is not defined",
     "output_type": "error",
     "traceback": [
      "\u001b[0;31m---------------------------------------------------------------------------\u001b[0m",
      "\u001b[0;31mNameError\u001b[0m                                 Traceback (most recent call last)",
      "\u001b[0;32m<ipython-input-21-913a71332013>\u001b[0m in \u001b[0;36m<module>\u001b[0;34m\u001b[0m\n\u001b[1;32m      2\u001b[0m \u001b[0mR\u001b[0m \u001b[0;34m=\u001b[0m \u001b[0mnp\u001b[0m\u001b[0;34m.\u001b[0m\u001b[0meye\u001b[0m\u001b[0;34m(\u001b[0m\u001b[0;36m3\u001b[0m\u001b[0;34m)\u001b[0m\u001b[0;34m\u001b[0m\u001b[0;34m\u001b[0m\u001b[0m\n\u001b[1;32m      3\u001b[0m \u001b[0;32mfor\u001b[0m \u001b[0mi\u001b[0m \u001b[0;32min\u001b[0m \u001b[0mrange\u001b[0m\u001b[0;34m(\u001b[0m\u001b[0;36m3000\u001b[0m\u001b[0;34m)\u001b[0m\u001b[0;34m:\u001b[0m\u001b[0;34m\u001b[0m\u001b[0;34m\u001b[0m\u001b[0m\n\u001b[0;32m----> 4\u001b[0;31m     \u001b[0mintegrated\u001b[0m\u001b[0;34m.\u001b[0m\u001b[0mappend\u001b[0m\u001b[0;34m(\u001b[0m\u001b[0mSO3\u001b[0m\u001b[0;34m(\u001b[0m\u001b[0mR\u001b[0m\u001b[0;34m)\u001b[0m\u001b[0;34m.\u001b[0m\u001b[0mlog\u001b[0m\u001b[0;34m(\u001b[0m\u001b[0;34m)\u001b[0m\u001b[0;34m)\u001b[0m\u001b[0;34m\u001b[0m\u001b[0;34m\u001b[0m\u001b[0m\n\u001b[0m\u001b[1;32m      5\u001b[0m     \u001b[0mR\u001b[0m\u001b[0;34m=\u001b[0m\u001b[0mR\u001b[0m\u001b[0;34m@\u001b[0m\u001b[0mSO3\u001b[0m\u001b[0;34m.\u001b[0m\u001b[0mexp\u001b[0m\u001b[0;34m(\u001b[0m\u001b[0;34m(\u001b[0m\u001b[0mgyr_sync\u001b[0m\u001b[0;34m[\u001b[0m\u001b[0mi\u001b[0m\u001b[0;34m+\u001b[0m\u001b[0;36m53900\u001b[0m\u001b[0;34m,\u001b[0m\u001b[0;34m...\u001b[0m\u001b[0;34m]\u001b[0m\u001b[0;34m-\u001b[0m\u001b[0mbias_gyro\u001b[0m\u001b[0;34m[\u001b[0m\u001b[0;34m-\u001b[0m\u001b[0;36m1\u001b[0m\u001b[0;34m]\u001b[0m\u001b[0;34m)\u001b[0m\u001b[0;34m/\u001b[0m\u001b[0;36m400\u001b[0m\u001b[0;34m)\u001b[0m\u001b[0;34m.\u001b[0m\u001b[0mas_matrix\u001b[0m\u001b[0;34m(\u001b[0m\u001b[0;34m)\u001b[0m\u001b[0;34m\u001b[0m\u001b[0;34m\u001b[0m\u001b[0m\n",
      "\u001b[0;31mNameError\u001b[0m: name 'SO3' is not defined"
     ]
    }
   ],
   "source": [
    "integrated = []\n",
    "R = np.eye(3)\n",
    "for i in range(3000):\n",
    "    integrated.append(SO3(R).log())\n",
    "    R=R@SO3.exp((gyr_sync[i+53900,...]-bias_gyro[-1])/400).as_matrix()"
   ]
  },
  {
   "cell_type": "code",
   "execution_count": 316,
   "metadata": {},
   "outputs": [
    {
     "data": {
      "text/plain": [
       "[<matplotlib.lines.Line2D at 0x7f09fc5e22b0>,\n",
       " <matplotlib.lines.Line2D at 0x7f09fc5e22e8>,\n",
       " <matplotlib.lines.Line2D at 0x7f09fc5e2390>]"
      ]
     },
     "execution_count": 316,
     "metadata": {},
     "output_type": "execute_result"
    }
   ],
   "source": [
    "plt.plot(integrated)"
   ]
  },
  {
   "cell_type": "code",
   "execution_count": 317,
   "metadata": {},
   "outputs": [],
   "source": [
    "integrated2 = []\n",
    "R = np.eye(3)\n",
    "for i in range(3000):\n",
    "    integrated2.append(SO3(gt_rots_sync[54000].T @ gt_rots_sync[54000+i]@SO3.exp(integrated[i]).as_matrix()).log())"
   ]
  },
  {
   "cell_type": "code",
   "execution_count": 318,
   "metadata": {},
   "outputs": [
    {
     "data": {
      "text/plain": [
       "[<matplotlib.lines.Line2D at 0x7f09fc451160>,\n",
       " <matplotlib.lines.Line2D at 0x7f09fc451198>,\n",
       " <matplotlib.lines.Line2D at 0x7f09fc451240>]"
      ]
     },
     "execution_count": 318,
     "metadata": {},
     "output_type": "execute_result"
    }
   ],
   "source": [
    "# plt.plot(integrated)\n",
    "plt.plot(integrated2)"
   ]
  },
  {
   "cell_type": "code",
   "execution_count": 324,
   "metadata": {},
   "outputs": [
    {
     "data": {
      "text/plain": [
       "(array([4.534e+04, 4.000e+00, 0.000e+00, 0.000e+00, 0.000e+00, 1.000e+00,\n",
       "        0.000e+00, 0.000e+00, 0.000e+00, 1.000e+00]),\n",
       " array([2.71797180e-05, 4.00391102e-02, 8.00510406e-02, 1.20062971e-01,\n",
       "        1.60074902e-01, 2.00086832e-01, 2.40098763e-01, 2.80110693e-01,\n",
       "        3.20122623e-01, 3.60134554e-01, 4.00146484e-01]),\n",
       " <BarContainer object of 10 artists>)"
      ]
     },
     "execution_count": 324,
     "metadata": {},
     "output_type": "execute_result"
    }
   ],
   "source": [
    "plt.hist(gt_pose_stamp[1:]-gt_pose_stamp[0:-1])"
   ]
  },
  {
   "cell_type": "code",
   "execution_count": null,
   "metadata": {},
   "outputs": [],
   "source": []
  },
  {
   "cell_type": "code",
   "execution_count": null,
   "metadata": {},
   "outputs": [],
   "source": []
  },
  {
   "cell_type": "code",
   "execution_count": null,
   "metadata": {},
   "outputs": [],
   "source": []
  },
  {
   "cell_type": "code",
   "execution_count": null,
   "metadata": {},
   "outputs": [],
   "source": []
  },
  {
   "cell_type": "code",
   "execution_count": 49,
   "metadata": {},
   "outputs": [
    {
     "data": {
      "text/plain": [
       "2.2866173296330556"
      ]
     },
     "execution_count": 49,
     "metadata": {},
     "output_type": "execute_result"
    }
   ],
   "source": [
    "k=simulated_imu_stamps.shape[0]/filtered_omega_mag.shape[0]\n",
    "k"
   ]
  },
  {
   "cell_type": "code",
   "execution_count": 222,
   "metadata": {},
   "outputs": [],
   "source": [
    "ts=np.arange((filtered_omega_mag.shape[0]*k))/k"
   ]
  },
  {
   "cell_type": "code",
   "execution_count": 223,
   "metadata": {},
   "outputs": [],
   "source": [
    "from scipy.interpolate import interp1d\n",
    "f = interp1d(np.arange(filtered_omega_mag.shape[0]),filtered_omega_mag)\n",
    "g=np.vstack([f(t) for t in ts[0:-2].tolist()])"
   ]
  },
  {
   "cell_type": "code",
   "execution_count": 230,
   "metadata": {},
   "outputs": [
    {
     "data": {
      "text/plain": [
       "[<matplotlib.lines.Line2D at 0x7f086e10fcf8>]"
      ]
     },
     "execution_count": 230,
     "metadata": {},
     "output_type": "execute_result"
    }
   ],
   "source": [
    "# plt.plot(g)\n",
    "# plt.plot(gyro_mag)\n",
    "cor = np.correlate(gyro_mag[:103815][12000:13500], g[:103815,0][12000:13500],mode = 'full')\n",
    "plt.plot(cor)"
   ]
  },
  {
   "cell_type": "code",
   "execution_count": null,
   "metadata": {},
   "outputs": [],
   "source": []
  },
  {
   "cell_type": "code",
   "execution_count": 232,
   "metadata": {},
   "outputs": [
    {
     "data": {
      "text/plain": [
       "92"
      ]
     },
     "execution_count": 232,
     "metadata": {},
     "output_type": "execute_result"
    }
   ],
   "source": [
    "s=1500-np.argmax(cor)\n",
    "s"
   ]
  },
  {
   "cell_type": "code",
   "execution_count": 234,
   "metadata": {},
   "outputs": [
    {
     "data": {
      "text/plain": [
       "[<matplotlib.lines.Line2D at 0x7f086e13ae80>]"
      ]
     },
     "execution_count": 234,
     "metadata": {},
     "output_type": "execute_result"
    }
   ],
   "source": [
    "# plt.plot(g[35:][0:10000,0]-gyro_mag[:-35][0:10000])\n",
    "plt.plot(g[s:][0:20000,0])\n",
    "plt.plot(gyro_mag[:-s][0:20000])\n",
    "\n",
    "# plt.plot(gyro_mag[:-35],'.')\n",
    "# plt.grid(True)"
   ]
  },
  {
   "cell_type": "code",
   "execution_count": 184,
   "metadata": {},
   "outputs": [
    {
     "data": {
      "text/plain": [
       "[<matplotlib.lines.Line2D at 0x7f086e5ac048>]"
      ]
     },
     "execution_count": 184,
     "metadata": {},
     "output_type": "execute_result"
    }
   ],
   "source": [
    "plt.plot(gt_pose_stamp[1:0]-gt_pose_stamp[0:1])"
   ]
  },
  {
   "cell_type": "code",
   "execution_count": 337,
   "metadata": {},
   "outputs": [
    {
     "data": {
      "text/plain": [
       "[<matplotlib.lines.Line2D at 0x7f09fc1d6f60>]"
      ]
     },
     "execution_count": 337,
     "metadata": {},
     "output_type": "execute_result"
    }
   ],
   "source": [
    "plt.plot(raw_imu_stamp,'.')\n",
    "plt.plot([raw_imu_stamp[0]+i/400 for i in range(raw_imu_stamp.shape[0])],'.')"
   ]
  },
  {
   "cell_type": "code",
   "execution_count": 35,
   "metadata": {},
   "outputs": [],
   "source": []
  }
 ],
 "metadata": {
  "kernelspec": {
   "display_name": "torch_1.6",
   "language": "python",
   "name": "torch_1.6"
  },
  "language_info": {
   "codemirror_mode": {
    "name": "ipython",
    "version": 3
   },
   "file_extension": ".py",
   "mimetype": "text/x-python",
   "name": "python",
   "nbconvert_exporter": "python",
   "pygments_lexer": "ipython3",
   "version": "3.6.12"
  }
 },
 "nbformat": 4,
 "nbformat_minor": 2
}
